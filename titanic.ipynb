{
 "cells": [
  {
   "cell_type": "markdown",
   "metadata": {},
   "source": [
    "# Machine Learning Basics"
   ]
  },
  {
   "cell_type": "markdown",
   "metadata": {},
   "source": [
    "**Keywords**: Machine Learning, Binary Classifier, Feature Engineering, Feature Selection, Hyperparameter Tuning"
   ]
  },
  {
   "cell_type": "markdown",
   "metadata": {},
   "source": [
    "I wanted to write a small \"hello world\" kind of notebook on Machine Learning to add to my collection, but I actually ended up covering a whole lot of the Machine Learning Workflow. If you want to check out something more straight-forward take a look at [this](https://en.wikipedia.org/wiki/To_be_announced) Linear Regression example. Rest assured, this time I'm not working with any house sale price database, however, I am guilty of continuing the over-exploitation of the [Titanic Survivors Kaggle dataset](https://www.kaggle.com/c/titanic). I chose that dataset because this notebook did start out as a basic example, but things escalated quickly. orz\n",
    "\n",
    "The purpose of this notebook it to have a quick look-up guide of steps and functions regularly used in the Machine Learning workflow. We will do Exploratory Data Analysis, Feature Engineering, Feature and Model Selection[,](https://en.oxforddictionaries.com/explore/what-is-the-oxford-comma/) and Hyperparameter Tuning on the aforementioned Titanic dataset. Our goal is to predict whether a passenger would have survived nor not ([Binary Classification](https://en.wikipedia.org/wiki/Binary_classification)) based on features such as gender and ticket fare."
   ]
  },
  {
   "cell_type": "code",
   "execution_count": 1,
   "metadata": {},
   "outputs": [],
   "source": [
    "import pandas as pd\n",
    "import matplotlib.pyplot as plt\n",
    "import seaborn as sns\n",
    "%matplotlib inline"
   ]
  },
  {
   "cell_type": "markdown",
   "metadata": {},
   "source": [
    "## Exploratory Data Analysis"
   ]
  },
  {
   "cell_type": "code",
   "execution_count": 2,
   "metadata": {},
   "outputs": [],
   "source": [
    "train = pd.read_csv(\"titanic_data/train.csv\")\n",
    "holdout = pd.read_csv(\"titanic_data/test.csv\")"
   ]
  },
  {
   "cell_type": "markdown",
   "metadata": {},
   "source": [
    "The holdout dataset is a collection of data without a label (Survived column). This is what we would make predictions on and submit to Kaggle. We can use it to asess our model's accuracy on an independent dataset. "
   ]
  },
  {
   "cell_type": "code",
   "execution_count": 3,
   "metadata": {},
   "outputs": [
    {
     "data": {
      "text/html": [
       "<div>\n",
       "<style scoped>\n",
       "    .dataframe tbody tr th:only-of-type {\n",
       "        vertical-align: middle;\n",
       "    }\n",
       "\n",
       "    .dataframe tbody tr th {\n",
       "        vertical-align: top;\n",
       "    }\n",
       "\n",
       "    .dataframe thead th {\n",
       "        text-align: right;\n",
       "    }\n",
       "</style>\n",
       "<table border=\"1\" class=\"dataframe\">\n",
       "  <thead>\n",
       "    <tr style=\"text-align: right;\">\n",
       "      <th></th>\n",
       "      <th>PassengerId</th>\n",
       "      <th>Survived</th>\n",
       "      <th>Pclass</th>\n",
       "      <th>Name</th>\n",
       "      <th>Sex</th>\n",
       "      <th>Age</th>\n",
       "      <th>SibSp</th>\n",
       "      <th>Parch</th>\n",
       "      <th>Ticket</th>\n",
       "      <th>Fare</th>\n",
       "      <th>Cabin</th>\n",
       "      <th>Embarked</th>\n",
       "    </tr>\n",
       "  </thead>\n",
       "  <tbody>\n",
       "    <tr>\n",
       "      <th>0</th>\n",
       "      <td>1</td>\n",
       "      <td>0</td>\n",
       "      <td>3</td>\n",
       "      <td>Braund, Mr. Owen Harris</td>\n",
       "      <td>male</td>\n",
       "      <td>22.0</td>\n",
       "      <td>1</td>\n",
       "      <td>0</td>\n",
       "      <td>A/5 21171</td>\n",
       "      <td>7.2500</td>\n",
       "      <td>NaN</td>\n",
       "      <td>S</td>\n",
       "    </tr>\n",
       "    <tr>\n",
       "      <th>1</th>\n",
       "      <td>2</td>\n",
       "      <td>1</td>\n",
       "      <td>1</td>\n",
       "      <td>Cumings, Mrs. John Bradley (Florence Briggs Th...</td>\n",
       "      <td>female</td>\n",
       "      <td>38.0</td>\n",
       "      <td>1</td>\n",
       "      <td>0</td>\n",
       "      <td>PC 17599</td>\n",
       "      <td>71.2833</td>\n",
       "      <td>C85</td>\n",
       "      <td>C</td>\n",
       "    </tr>\n",
       "    <tr>\n",
       "      <th>2</th>\n",
       "      <td>3</td>\n",
       "      <td>1</td>\n",
       "      <td>3</td>\n",
       "      <td>Heikkinen, Miss. Laina</td>\n",
       "      <td>female</td>\n",
       "      <td>26.0</td>\n",
       "      <td>0</td>\n",
       "      <td>0</td>\n",
       "      <td>STON/O2. 3101282</td>\n",
       "      <td>7.9250</td>\n",
       "      <td>NaN</td>\n",
       "      <td>S</td>\n",
       "    </tr>\n",
       "    <tr>\n",
       "      <th>3</th>\n",
       "      <td>4</td>\n",
       "      <td>1</td>\n",
       "      <td>1</td>\n",
       "      <td>Futrelle, Mrs. Jacques Heath (Lily May Peel)</td>\n",
       "      <td>female</td>\n",
       "      <td>35.0</td>\n",
       "      <td>1</td>\n",
       "      <td>0</td>\n",
       "      <td>113803</td>\n",
       "      <td>53.1000</td>\n",
       "      <td>C123</td>\n",
       "      <td>S</td>\n",
       "    </tr>\n",
       "    <tr>\n",
       "      <th>4</th>\n",
       "      <td>5</td>\n",
       "      <td>0</td>\n",
       "      <td>3</td>\n",
       "      <td>Allen, Mr. William Henry</td>\n",
       "      <td>male</td>\n",
       "      <td>35.0</td>\n",
       "      <td>0</td>\n",
       "      <td>0</td>\n",
       "      <td>373450</td>\n",
       "      <td>8.0500</td>\n",
       "      <td>NaN</td>\n",
       "      <td>S</td>\n",
       "    </tr>\n",
       "  </tbody>\n",
       "</table>\n",
       "</div>"
      ],
      "text/plain": [
       "   PassengerId  Survived  Pclass  \\\n",
       "0            1         0       3   \n",
       "1            2         1       1   \n",
       "2            3         1       3   \n",
       "3            4         1       1   \n",
       "4            5         0       3   \n",
       "\n",
       "                                                Name     Sex   Age  SibSp  \\\n",
       "0                            Braund, Mr. Owen Harris    male  22.0      1   \n",
       "1  Cumings, Mrs. John Bradley (Florence Briggs Th...  female  38.0      1   \n",
       "2                             Heikkinen, Miss. Laina  female  26.0      0   \n",
       "3       Futrelle, Mrs. Jacques Heath (Lily May Peel)  female  35.0      1   \n",
       "4                           Allen, Mr. William Henry    male  35.0      0   \n",
       "\n",
       "   Parch            Ticket     Fare Cabin Embarked  \n",
       "0      0         A/5 21171   7.2500   NaN        S  \n",
       "1      0          PC 17599  71.2833   C85        C  \n",
       "2      0  STON/O2. 3101282   7.9250   NaN        S  \n",
       "3      0            113803  53.1000  C123        S  \n",
       "4      0            373450   8.0500   NaN        S  "
      ]
     },
     "execution_count": 3,
     "metadata": {},
     "output_type": "execute_result"
    }
   ],
   "source": [
    "train.head()"
   ]
  },
  {
   "cell_type": "markdown",
   "metadata": {},
   "source": [
    "The data dictionary can give us an idea of what these columns mean\n",
    "\n",
    "|Column|Description|\n",
    "|:------:|:------|\n",
    "|PassengerID | A column added by Kaggle to identify each row and make submissions easier|\n",
    "|Survived | Whether the passenger survived or not and the value we are predicting (0=No, 1=Yes)|\n",
    "|Pclass | The class of the ticket the passenger purchased (1=1st, 2=2nd, 3=3rd)|\n",
    "|Sex | The passenger's sex|\n",
    "|Age | The passenger's age in years|\n",
    "|SibSp | The number of siblings or spouses the passenger had aboard the Titanic|\n",
    "|Parch | The number of parents or children the passenger had aboard the Titanic|\n",
    "|Ticket | The passenger's ticket number|\n",
    "|Fare | The fare the passenger paid|\n",
    "|Cabin | The passenger's cabin number|\n",
    "|Embarked | The port where the passenger embarked (C=Cherbourg, Q=Queenstown, S=Southampton)|"
   ]
  },
  {
   "cell_type": "markdown",
   "metadata": {},
   "source": [
    "Our [domain knowledge](https://en.wikipedia.org/wiki/Women_and_children_first) gives us a starting point as to which variables we might want to analyze more closely: _Age_, _Sex_, and _PClass_ could be good survival predictors.\n",
    "\n",
    "Let's use a pivot table to see the percentage of survivors of each class for each of the above predictors. The Sex and Class features are categorical variables, so they're pretty straightforward, however, we'll perform a little transformation on the Age column. "
   ]
  },
  {
   "cell_type": "code",
   "execution_count": 4,
   "metadata": {},
   "outputs": [
    {
     "name": "stdout",
     "output_type": "stream",
     "text": [
      "count    714.000000\n",
      "mean      29.699118\n",
      "std       14.526497\n",
      "min        0.420000\n",
      "25%       20.125000\n",
      "50%       28.000000\n",
      "75%       38.000000\n",
      "max       80.000000\n",
      "Name: Age, dtype: float64\n",
      "Missing values on the Age column: 177\n",
      "Unique values on the Age column: 89\n"
     ]
    }
   ],
   "source": [
    "print train[\"Age\"].describe()\n",
    "print \"Missing values on the Age column:\" , train[\"Age\"].isna().sum()\n",
    "print \"Unique values on the Age column:\" , len(train[\"Age\"].unique())"
   ]
  },
  {
   "cell_type": "markdown",
   "metadata": {},
   "source": [
    "The age column has a total of 89 unique values. This is because Age is a continous variable. A continous variable can be [dichotomized](https://www.r-bloggers.com/from-continuous-to-categorical/) into a categorical one in order to easily assign survivability rates to a cohort (age group). In the process, we will also deal with the missing 177 values. \n",
    "\n",
    "Any transformations applied to the train set must be applied to the test(holdout) set as well, otherwise, the model will be trained with certain data dimensionality and scale, yielding parameters that wouldn't match the test data properly. In other words, we can't train a model based on age group (children, adult, etc.) and then ask it to make a prediction based on a number (e.g. 57 years old)."
   ]
  },
  {
   "cell_type": "markdown",
   "metadata": {},
   "source": [
    "#### A bit of Feature Engineering (Dichotomizing/Binning) for our EDA"
   ]
  },
  {
   "cell_type": "code",
   "execution_count": 5,
   "metadata": {},
   "outputs": [],
   "source": [
    "def binning(df, col,cut_points,label_names):\n",
    "    #Deal with the missing values by excluding them from the positive ranges i.e:making them negative. \n",
    "    #cut points should include a bin that includes the negative values and label it as Missing \n",
    "    df[col] = df[col].fillna(-0.5)\n",
    "    df[col + \"_categories\"] = pd.cut(df[col],cut_points,labels=label_names)\n",
    "    df = df.drop(col, axis = 1)\n",
    "    return df"
   ]
  },
  {
   "cell_type": "code",
   "execution_count": 6,
   "metadata": {},
   "outputs": [],
   "source": [
    "label_names = [\"Missing\", \"Infant\", \"Child\", \"Teenager\", \"Young Adult\", \"Adult\", \"Senior\"]\n",
    "cut_points = [-1,0,5,12,18,35,60,100]\n",
    "\n",
    "train = binning(train, \"Age\", cut_points, label_names)\n",
    "holdout = binning(holdout, \"Age\", cut_points, label_names)"
   ]
  },
  {
   "cell_type": "markdown",
   "metadata": {},
   "source": [
    "Let's take a look at the age column after transforming it to a categorical variable.  "
   ]
  },
  {
   "cell_type": "code",
   "execution_count": 7,
   "metadata": {},
   "outputs": [
    {
     "name": "stdout",
     "output_type": "stream",
     "text": [
      "count             891\n",
      "unique              7\n",
      "top       Young Adult\n",
      "freq              358\n",
      "Name: Age_categories, dtype: object\n",
      "Missing values on the Age Categories column: 0\n",
      "Unique values on the Age Categories column: 7\n",
      "[Young Adult, Adult, Missing, Infant, Teenager, Child, Senior]\n",
      "Categories (7, object): [Missing < Infant < Child < Teenager < Young Adult < Adult < Senior]\n"
     ]
    }
   ],
   "source": [
    "print train[\"Age_categories\"].describe()\n",
    "print \"Missing values on the Age Categories column:\" , train[\"Age_categories\"].isna().sum()\n",
    "print \"Unique values on the Age Categories column:\" , len(train[\"Age_categories\"].unique())\n",
    "print train[\"Age_categories\"].unique()"
   ]
  },
  {
   "cell_type": "code",
   "execution_count": 8,
   "metadata": {},
   "outputs": [],
   "source": [
    "def plot_pivot(col,ax):\n",
    "    sns.set()\n",
    "    feature_pivot = train.pivot_table(index=col,values=\"Survived\")\n",
    "    #Explicity pass ax.  Unlike other dataframe plots, the bar plot isn't added to the proper subplot.\n",
    "    feature_pivot.plot.bar(alpha = 0.6, ax=ax, color = \"orange\")"
   ]
  },
  {
   "cell_type": "code",
   "execution_count": 9,
   "metadata": {},
   "outputs": [
    {
     "data": {
      "image/png": "[encoded data removed]",
      "text/plain": [
       "<matplotlib.figure.Figure at 0x10e572b90>"
      ]
     },
     "metadata": {},
     "output_type": "display_data"
    }
   ],
   "source": [
    "fig = plt.figure(figsize=(16, 3))\n",
    "\n",
    "ax = fig.add_subplot(1,3,1)\n",
    "plot_pivot(\"Sex\", ax)\n",
    "\n",
    "ax = fig.add_subplot(1,3,2)\n",
    "plot_pivot(\"Pclass\", ax)\n",
    "\n",
    "ax = fig.add_subplot(1,3,3)\n",
    "plot_pivot(\"Age_categories\", ax)"
   ]
  },
  {
   "cell_type": "markdown",
   "metadata": {},
   "source": [
    "As we expected, based the Birkenhead Drill, Women and Children were given priority over the rest of the passengers. At the same time, passengers with a higher status, as inferred from the class they were traveling in, also had a higher survivability rate."
   ]
  },
  {
   "cell_type": "markdown",
   "metadata": {},
   "source": [
    "#### A bit of Feature Pre-processing (One Hot Encoding) for training our first model."
   ]
  },
  {
   "cell_type": "markdown",
   "metadata": {},
   "source": [
    "A problem with label encoding is that it assumes higher the categorical value, better the category. For example, PClass certainly has some sort of ordered relationship, but it is not the same as the relationship between the numbers 1, 2, and 3. Pclass 2 isn't worth double what class 1 is.\n",
    "\n",
    "To deal with this problem, we use [one hot encoding](https://hackernoon.com/what-is-one-hot-encoding-why-and-when-do-you-have-to-use-it-e3c6186d008f). We perform a \"binarization\" of the category and thus are able to include it in our model."
   ]
  },
  {
   "cell_type": "code",
   "execution_count": 10,
   "metadata": {},
   "outputs": [],
   "source": [
    "def one_hot_encode(df,column_name):\n",
    "    dummies = pd.get_dummies(df[column_name],prefix=column_name)\n",
    "    df = pd.concat([df.drop(column_name, axis=1),dummies],axis=1)\n",
    "    return df"
   ]
  },
  {
   "cell_type": "code",
   "execution_count": 11,
   "metadata": {},
   "outputs": [],
   "source": [
    "cols = [\"Pclass\", \"Sex\", \"Age_categories\"]\n",
    "\n",
    "for col in cols:\n",
    "    train = one_hot_encode(train,col)\n",
    "    holdout = one_hot_encode(holdout,col)"
   ]
  },
  {
   "cell_type": "markdown",
   "metadata": {},
   "source": [
    "## First Model: Logistic Regression (aka The Bread and Butter)"
   ]
  },
  {
   "cell_type": "markdown",
   "metadata": {},
   "source": [
    "Now that our important features have been pre-processed, we are ready to train a first model. The first model we will use is called Logistic Regression, which is often the first model you will train when performing classification."
   ]
  },
  {
   "cell_type": "code",
   "execution_count": 12,
   "metadata": {},
   "outputs": [
    {
     "data": {
      "text/plain": [
       "LogisticRegression(C=1.0, class_weight=None, dual=False, fit_intercept=True,\n",
       "          intercept_scaling=1, max_iter=100, multi_class='ovr', n_jobs=1,\n",
       "          penalty='l2', random_state=None, solver='liblinear', tol=0.0001,\n",
       "          verbose=0, warm_start=False)"
      ]
     },
     "execution_count": 12,
     "metadata": {},
     "output_type": "execute_result"
    }
   ],
   "source": [
    "from sklearn.linear_model import LogisticRegression\n",
    "\n",
    "ignore_columns = ['PassengerId', 'Survived', 'Name', 'SibSp', 'Parch', 'Ticket', 'Fare', 'Cabin', 'Embarked']\n",
    "\n",
    "lr = LogisticRegression()\n",
    "lr.fit(train.drop(ignore_columns, axis =1), train['Survived'])"
   ]
  },
  {
   "cell_type": "markdown",
   "metadata": {},
   "source": [
    "First attempt: Complete!  The next step is to find out how accurate our model is, by making predictions.\n",
    "\n",
    "We split our train dataframe into two to avoid **[overfitting](https://en.wikipedia.org/wiki/Overfitting):**\n",
    "80% of the observations will make the train set and the remaining 20% will make the test set. Note that we cannot use the holdout dataset for this purpose, as it does not contain a target (Survived?) column. "
   ]
  },
  {
   "cell_type": "code",
   "execution_count": 13,
   "metadata": {},
   "outputs": [],
   "source": [
    "from sklearn.model_selection import train_test_split\n",
    "\n",
    "train_X, test_X, train_y, test_y = train_test_split(train.drop(ignore_columns, axis =1), train.Survived, test_size = 0.2)"
   ]
  },
  {
   "cell_type": "markdown",
   "metadata": {},
   "source": [
    "There are a number of ways to measure the accuracy of machine learning models. In this case, the evaluation section for the Titanic competition on Kaggle tells us that our score calculated as \"the percentage of passengers correctly predicted\". This is by far the most common form of [accuracy](https://stats.stackexchange.com/questions/312780/why-is-accuracy-not-the-best-measure-for-assessing-classification-models) for binary classification."
   ]
  },
  {
   "cell_type": "code",
   "execution_count": 14,
   "metadata": {},
   "outputs": [
    {
     "name": "stdout",
     "output_type": "stream",
     "text": [
      "Model Accuracy: 83.80%\n"
     ]
    }
   ],
   "source": [
    "from sklearn.metrics import accuracy_score\n",
    "\n",
    "lr = LogisticRegression()\n",
    "lr.fit(train_X, train_y)\n",
    "predictions = lr.predict(test_X)\n",
    "\n",
    "accuracy = accuracy_score(test_y, predictions)\n",
    "\n",
    "print('Model Accuracy: {:.2%}'.format(accuracy))"
   ]
  },
  {
   "cell_type": "markdown",
   "metadata": {},
   "source": [
    "#### Measuring Model Accuracy (Cross Validation)"
   ]
  },
  {
   "cell_type": "markdown",
   "metadata": {},
   "source": [
    "The LR model has an accuracy score of 79.3% when tested against **ONLY** the 20% test set. The problem with machine learning models is that you won’t get to know how well a model performs until you test its performance on an independent data set (the data set which was not used for training the machine learning model). To give us a better understanding of the real performance of our model, we can use a technique called cross validation to train and test our model on different splits of our data.\n",
    "\n",
    "The most common form of **cross validation** is called [k-fold cross validation](https://magoosh.com/data-science/k-fold-cross-validation/). Here, we split our data in k groups, train on k-1 and test on the remaining one. Repeat for all of the possible splits and then average the scoring metric of all the iterations."
   ]
  },
  {
   "cell_type": "code",
   "execution_count": 15,
   "metadata": {},
   "outputs": [
    {
     "name": "stdout",
     "output_type": "stream",
     "text": [
      "[0.8        0.81111111 0.7752809  0.87640449 0.80898876 0.78651685\n",
      " 0.76404494 0.76404494 0.83146067 0.80681818]\n",
      "Model Accuracy: 80.25%\n"
     ]
    }
   ],
   "source": [
    "from sklearn.model_selection import cross_val_score\n",
    "import numpy as np\n",
    "\n",
    "scores = cross_val_score(lr, train.drop(ignore_columns, axis =1), train.Survived, cv= 10)\n",
    "accuracy = np.mean(scores)\n",
    "print(scores)\n",
    "\n",
    "print('Model Accuracy: {:.2%}'.format(accuracy))"
   ]
  },
  {
   "cell_type": "markdown",
   "metadata": {},
   "source": [
    "The average accuracy score was 80.25%, not too different from the 81.0% we got from the simple train/test split. Keep in mind that this might not always be the case. It's a good practice to use cross validation as a way to have an accuracy score that better represents the model."
   ]
  },
  {
   "cell_type": "markdown",
   "metadata": {},
   "source": [
    "There are many things we can do to improve the accuracy of our model. \n",
    "\n",
    "**Improving the features:**<br/>\n",
    "*Feature Engineering*: Create new features from the existing data (Binning, Extracting data from text, Date to time frame transformation).<br/>\n",
    "*Feature Selection*: Select the most relevant features to reduce noise and overfitting (Reduce colinearity, Select features highly correlated to the target, Remove low variance features).<br/>\n",
    "\n",
    "**Improving the model:**<br/>\n",
    "*Model Selection*: Try a variety of models to improve performance.<br/>\n",
    "*Hyperparameter Optimization*: Optimize the settings within each particular machine learning model."
   ]
  },
  {
   "cell_type": "markdown",
   "metadata": {},
   "source": [
    "## Feature Preparation, Selection and Engineering"
   ]
  },
  {
   "cell_type": "markdown",
   "metadata": {},
   "source": [
    "There are a number of features we haven't yet utilized. Let's explore them!"
   ]
  },
  {
   "cell_type": "code",
   "execution_count": 16,
   "metadata": {},
   "outputs": [
    {
     "data": {
      "text/html": [
       "<div>\n",
       "<style scoped>\n",
       "    .dataframe tbody tr th:only-of-type {\n",
       "        vertical-align: middle;\n",
       "    }\n",
       "\n",
       "    .dataframe tbody tr th {\n",
       "        vertical-align: top;\n",
       "    }\n",
       "\n",
       "    .dataframe thead th {\n",
       "        text-align: right;\n",
       "    }\n",
       "</style>\n",
       "<table border=\"1\" class=\"dataframe\">\n",
       "  <thead>\n",
       "    <tr style=\"text-align: right;\">\n",
       "      <th></th>\n",
       "      <th>SibSp</th>\n",
       "      <th>Parch</th>\n",
       "      <th>Fare</th>\n",
       "      <th>Cabin</th>\n",
       "      <th>Embarked</th>\n",
       "    </tr>\n",
       "  </thead>\n",
       "  <tbody>\n",
       "    <tr>\n",
       "      <th>count</th>\n",
       "      <td>891.000000</td>\n",
       "      <td>891.000000</td>\n",
       "      <td>891.000000</td>\n",
       "      <td>204</td>\n",
       "      <td>889</td>\n",
       "    </tr>\n",
       "    <tr>\n",
       "      <th>unique</th>\n",
       "      <td>NaN</td>\n",
       "      <td>NaN</td>\n",
       "      <td>NaN</td>\n",
       "      <td>147</td>\n",
       "      <td>3</td>\n",
       "    </tr>\n",
       "    <tr>\n",
       "      <th>top</th>\n",
       "      <td>NaN</td>\n",
       "      <td>NaN</td>\n",
       "      <td>NaN</td>\n",
       "      <td>C23 C25 C27</td>\n",
       "      <td>S</td>\n",
       "    </tr>\n",
       "    <tr>\n",
       "      <th>freq</th>\n",
       "      <td>NaN</td>\n",
       "      <td>NaN</td>\n",
       "      <td>NaN</td>\n",
       "      <td>4</td>\n",
       "      <td>644</td>\n",
       "    </tr>\n",
       "    <tr>\n",
       "      <th>mean</th>\n",
       "      <td>0.523008</td>\n",
       "      <td>0.381594</td>\n",
       "      <td>32.204208</td>\n",
       "      <td>NaN</td>\n",
       "      <td>NaN</td>\n",
       "    </tr>\n",
       "    <tr>\n",
       "      <th>std</th>\n",
       "      <td>1.102743</td>\n",
       "      <td>0.806057</td>\n",
       "      <td>49.693429</td>\n",
       "      <td>NaN</td>\n",
       "      <td>NaN</td>\n",
       "    </tr>\n",
       "    <tr>\n",
       "      <th>min</th>\n",
       "      <td>0.000000</td>\n",
       "      <td>0.000000</td>\n",
       "      <td>0.000000</td>\n",
       "      <td>NaN</td>\n",
       "      <td>NaN</td>\n",
       "    </tr>\n",
       "    <tr>\n",
       "      <th>50%</th>\n",
       "      <td>0.000000</td>\n",
       "      <td>0.000000</td>\n",
       "      <td>14.454200</td>\n",
       "      <td>NaN</td>\n",
       "      <td>NaN</td>\n",
       "    </tr>\n",
       "    <tr>\n",
       "      <th>max</th>\n",
       "      <td>8.000000</td>\n",
       "      <td>6.000000</td>\n",
       "      <td>512.329200</td>\n",
       "      <td>NaN</td>\n",
       "      <td>NaN</td>\n",
       "    </tr>\n",
       "  </tbody>\n",
       "</table>\n",
       "</div>"
      ],
      "text/plain": [
       "             SibSp       Parch        Fare        Cabin Embarked\n",
       "count   891.000000  891.000000  891.000000          204      889\n",
       "unique         NaN         NaN         NaN          147        3\n",
       "top            NaN         NaN         NaN  C23 C25 C27        S\n",
       "freq           NaN         NaN         NaN            4      644\n",
       "mean      0.523008    0.381594   32.204208          NaN      NaN\n",
       "std       1.102743    0.806057   49.693429          NaN      NaN\n",
       "min       0.000000    0.000000    0.000000          NaN      NaN\n",
       "50%       0.000000    0.000000   14.454200          NaN      NaN\n",
       "max       8.000000    6.000000  512.329200          NaN      NaN"
      ]
     },
     "execution_count": 16,
     "metadata": {},
     "output_type": "execute_result"
    }
   ],
   "source": [
    "columns = ['SibSp','Parch','Fare','Cabin','Embarked']\n",
    "train[columns].describe(include='all',percentiles=[])"
   ]
  },
  {
   "cell_type": "markdown",
   "metadata": {},
   "source": [
    "SibSp, Parch and Fare are standard numeric columns with no missing values. Cabin has 687 missing values, and the ones that are not are mostly unique. Let's put a pin on that one for now. Embarked looks to be a standard categorical column with 3 unique values, much like PClass. There are two **missing values**."
   ]
  },
  {
   "cell_type": "markdown",
   "metadata": {},
   "source": [
    "### Dealing with missing data"
   ]
  },
  {
   "cell_type": "markdown",
   "metadata": {},
   "source": [
    "We can deal with missing data in a couple of ways:<br/>\n",
    "**Remove** rows containing missing values for specific columns<br/>\n",
    "Pro: Rows containing missing values are removed, leaving only clean data for modeling.<br/>\n",
    "Con: Entire observations from the training set are removed, which can reduce overall prediction accuracy.\n",
    "\n",
    "**Impute** (or replace) missing values using a descriptive statistic from the column (mean, mode)<br/>\n",
    "Pro: Missing values are replaced with potentially similar estimates, preserving the rest of the observation in the model.<br/>\n",
    "Con: Depending on the approach, we may be adding noisy data for the model to learn\n",
    "\n",
    "For this case, we can easily fill these two missing values with the most common value, \"S\" which occurs 644 times."
   ]
  },
  {
   "cell_type": "code",
   "execution_count": 17,
   "metadata": {},
   "outputs": [],
   "source": [
    "train.Embarked = train.Embarked.fillna(\"S\")\n",
    "holdout.Embarked = holdout.Embarked.fillna(\"S\")"
   ]
  },
  {
   "cell_type": "code",
   "execution_count": 18,
   "metadata": {},
   "outputs": [
    {
     "data": {
      "text/plain": [
       "<matplotlib.text.Text at 0x10f35b9d0>"
      ]
     },
     "execution_count": 18,
     "metadata": {},
     "output_type": "execute_result"
    },
    {
     "data": {
      "image/png": "[encoded data removed]",
      "text/plain": [
       "<matplotlib.figure.Figure at 0x10f13e4d0>"
      ]
     },
     "metadata": {},
     "output_type": "display_data"
    }
   ],
   "source": [
    "fig = plt.figure(figsize=(16,4))\n",
    "\n",
    "ax = fig.add_subplot(1,3,1)\n",
    "sibsp_counts = train.SibSp.value_counts().sort_index()\n",
    "sibsp_counts.plot.bar()\n",
    "ax.set_title(\"Siblings/Spouses\")\n",
    "for x, y in enumerate(sibsp_counts):\n",
    "    ax.text(x - 0.25, y + 20 , str(y))\n",
    "\n",
    "ax = fig.add_subplot(1,3,2)\n",
    "parch_counts = train.Parch.value_counts().sort_index()\n",
    "parch_counts.plot.bar(ylim=(0,750))\n",
    "ax.set_title(\"Parents/Children\")\n",
    "for x, y in enumerate(parch_counts):\n",
    "    ax.text(x - 0.25, y + 20 , str(y))\n",
    "    \n",
    "ax = fig.add_subplot(1,3,3)\n",
    "train.Fare.plot.kde(xlim = (-50,train.Fare.max()+50))\n",
    "ax.set_title(\"Fare\")"
   ]
  },
  {
   "cell_type": "markdown",
   "metadata": {},
   "source": [
    "### Rescaling"
   ]
  },
  {
   "cell_type": "markdown",
   "metadata": {},
   "source": [
    "Looking at our numeric columns, we can see a big difference between the range of each. SibSp and Parch have values between 0-8, but Fare is on a dramatically **different scale**, with values ranging from 0-512. Also, there are **outliers** in all three distributions. These two characteristics lead to difficulties to visualize the data and, more importantly, they can degrade the predictive performance of many machine learning algorithms. Unscaled data can also slow down or even prevent the convergence of many gradient-based estimators. In order to make sure these values are equally weighted within our model, we'll need to [rescale](http://scikit-learn.org/stable/auto_examples/preprocessing/plot_all_scaling.html) the data.\n",
    "\n",
    "The link above provides a good summarization of different scaling methods and their shortcomings."
   ]
  },
  {
   "cell_type": "code",
   "execution_count": null,
   "metadata": {},
   "outputs": [],
   "source": [
    "from sklearn.preprocessing import minmax_scale\n",
    "\n",
    "#There are some missing values for Fare in the Holdout dataset\n",
    "holdout[\"Fare\"] = holdout[\"Fare\"].fillna(train[\"Fare\"].mean())\n",
    "\n",
    "#One hot encode Embarked\n",
    "train = one_hot_encode(train, \"Embarked\")\n",
    "holdout = one_hot_encode(holdout, \"Embarked\")\n",
    "\n",
    "#Scale the rest of the columns\n",
    "old_cols = [\"SibSp\", \"Parch\", \"Fare\"]\n",
    "scaled_cols = [\"SibSp_scaled\", \"Parch_scaled\", \"Fare_scaled\"]\n",
    "\n",
    "for old, new in zip(old_cols, scaled_cols):\n",
    "    train[new] = minmax_scale(train[old])\n",
    "    holdout[new] = minmax_scale(holdout[old])"
   ]
  },
  {
   "cell_type": "markdown",
   "metadata": {},
   "source": [
    "### Feature Selection"
   ]
  },
  {
   "cell_type": "markdown",
   "metadata": {},
   "source": [
    "In order to select the best-performing features, we need a way to measure which features are relevant to the outcome. One effective way is by training a logistic regression model using all of our features, and then looking at the coefficients of each feature. Other methods include dropping features with low variance and selecting features with high correlation to the target.\n",
    "\n",
    "In a regression model, if everything is a very similar magnitude, a larger coefficient, either positive or negative, means larger effect, all things being equal.However, if data isn't normalized, the magnitude of the coefficients don't mean anything (without context). For instance, you could get different coefficients by changing the units of measure to be larger or smaller.\n",
    "\n",
    "In this case, we're doing a logisitc regresion, in which the coefficients are [odd-ratios](https://stats.idre.ucla.edu/stata/faq/how-do-i-interpret-odds-ratios-in-logistic-regression/)."
   ]
  },
  {
   "cell_type": "code",
   "execution_count": 20,
   "metadata": {},
   "outputs": [
    {
     "data": {
      "text/plain": [
       "<matplotlib.axes.AxesSubplot at 0x10e6e3e50>"
      ]
     },
     "execution_count": 20,
     "metadata": {},
     "output_type": "execute_result"
    },
    {
     "data": {
      "image/png": "[encoded data removed]",
      "text/plain": [
       "<matplotlib.figure.Figure at 0x10e768f10>"
      ]
     },
     "metadata": {},
     "output_type": "display_data"
    }
   ],
   "source": [
    "columns = ['Age_categories_Missing', 'Age_categories_Infant','Age_categories_Child', 'Age_categories_Teenager',\n",
    "       'Age_categories_Young Adult', 'Age_categories_Adult','Age_categories_Senior', 'Pclass_1', 'Pclass_2', 'Pclass_3',\n",
    "       'Sex_female', 'Sex_male', 'Embarked_C', 'Embarked_Q', 'Embarked_S','SibSp_scaled', 'Parch_scaled', 'Fare_scaled']\n",
    "\n",
    "lr = LogisticRegression()\n",
    "lr.fit(train[columns],train.Survived)\n",
    "coefficients = lr.coef_\n",
    "\n",
    "feature_importance = pd.Series(coefficients[0], index = columns)\n",
    "positive = pd.Series(coefficients[0] > 0)\n",
    "positive = positive.map({True: (0.2, 0.4, 0.6, 0.8), False: (1.0, 0.3, 0.1, 0.8)})\n",
    "feature_importance.plot.barh(color=positive)"
   ]
  },
  {
   "cell_type": "markdown",
   "metadata": {},
   "source": [
    "Whether the value is positive or negative isn't as important in this case, relative to the magnitude of the value, since a better prediction of either death or survival is a good prediction on a mutually exclusive outcome. \n",
    "\n",
    "Note: The sign differences can however, in the case of categorical features, help us understand that an infant has a higher chance of surviving (positive large coefficient), as opposed to a male passenger (second largest negative coefficient)."
   ]
  },
  {
   "cell_type": "code",
   "execution_count": 21,
   "metadata": {},
   "outputs": [
    {
     "data": {
      "image/png": "[encoded data removed]",
      "text/plain": [
       "<matplotlib.figure.Figure at 0x10a41a2d0>"
      ]
     },
     "metadata": {},
     "output_type": "display_data"
    }
   ],
   "source": [
    "ordered_feature_importance = feature_importance.abs().sort_values()\n",
    "ordered_feature_importance.plot.barh(color=(0.2, 0.4, 0.6, 0.6))\n",
    "plt.axvline(c=\"red\",x= ordered_feature_importance.mean())\n",
    "plt.show()"
   ]
  },
  {
   "cell_type": "markdown",
   "metadata": {},
   "source": [
    "Let's use the features that had above average coefficients."
   ]
  },
  {
   "cell_type": "code",
   "execution_count": 22,
   "metadata": {},
   "outputs": [
    {
     "name": "stdout",
     "output_type": "stream",
     "text": [
      "Model Accuracy: 81.48%\n"
     ]
    }
   ],
   "source": [
    "columns = ['Age_categories_Infant', 'SibSp_scaled', 'Sex_female', 'Sex_male','Pclass_1', 'Pclass_3', 'Age_categories_Senior', 'Parch_scaled']\n",
    "\n",
    "all_X = train[columns]\n",
    "all_y = train['Survived']\n",
    "\n",
    "lr = LogisticRegression()\n",
    "scores = cross_val_score(lr, all_X, all_y, cv =10)\n",
    "accuracy = scores.mean()\n",
    "\n",
    "print('Model Accuracy: {:.2%}'.format(accuracy))"
   ]
  },
  {
   "cell_type": "markdown",
   "metadata": {},
   "source": [
    "The cross validation score of 81.48% is slightly higher than the cross validation score for the Logistic Regression Model (80.25%)\n",
    "\n",
    "What can we do to improve this even further?"
   ]
  },
  {
   "cell_type": "markdown",
   "metadata": {},
   "source": [
    "### Feature Engineering"
   ]
  },
  {
   "cell_type": "markdown",
   "metadata": {},
   "source": [
    "A lot of the gains in accuracy in machine learning come from Feature Engineering. Feature engineering is the practice of creating new features from your existing data.\n",
    "\n",
    "One common way to engineer a feature is using a technique called binning. [Binning](https://en.wikipedia.org/wiki/Data_binning) is when you take a continuous feature, like the fare a passenger paid for their ticket, and separate it out into several ranges (or 'bins'), turning it into a categorical variable. Just like we did for the Age feature when doing the Exploratory Data Analysis.\n",
    "\n",
    "This can be useful when there are patterns in the data that are non-linear and you're using a linear model (like logistic regression).  (How?)\n",
    "\n",
    "Let's look at the histogram of the Fare column for passengers who died and survived, and see if there are patterns that we can use when creating our bins."
   ]
  },
  {
   "cell_type": "code",
   "execution_count": 23,
   "metadata": {},
   "outputs": [
    {
     "data": {
      "text/plain": [
       "<matplotlib.axes.AxesSubplot at 0x10e6eeb90>"
      ]
     },
     "execution_count": 23,
     "metadata": {},
     "output_type": "execute_result"
    },
    {
     "data": {
      "image/png": "[encoded data removed]",
      "text/plain": [
       "<matplotlib.figure.Figure at 0x109e2b550>"
      ]
     },
     "metadata": {},
     "output_type": "display_data"
    }
   ],
   "source": [
    "train.Fare[train.Survived == 1].plot.hist()"
   ]
  },
  {
   "cell_type": "code",
   "execution_count": 24,
   "metadata": {},
   "outputs": [
    {
     "data": {
      "text/plain": [
       "<matplotlib.text.Text at 0x10f555a90>"
      ]
     },
     "execution_count": 24,
     "metadata": {},
     "output_type": "execute_result"
    },
    {
     "data": {
      "image/png": "[encoded data removed]",
      "text/plain": [
       "<matplotlib.figure.Figure at 0x10f6ba8d0>"
      ]
     },
     "metadata": {},
     "output_type": "display_data"
    }
   ],
   "source": [
    "survived = pd.cut(train.Fare[train.Survived == 1], range(1,120, 15)).value_counts()\n",
    "survived.plot.bar(alpha = 0.5, color = \"blue\", label = \"Survived\")\n",
    "\n",
    "not_survived = pd.cut(train.Fare[train.Survived == 0], range(1,120, 15)).value_counts()\n",
    "not_survived.plot.bar(alpha = 0.5, color = \"red\", label = \"Not\")\n",
    "\n",
    "plt.legend()\n",
    "plt.xlabel(\"Fare\")"
   ]
  },
  {
   "cell_type": "markdown",
   "metadata": {},
   "source": [
    "Roughly 60% of the people with the cheapest fare didn't make it our alive. This trend continues, although to a lesser extent, until we reach a fare of 46, where survivability is prettymuch a coin toss. After that, Fares of 90+ seem to have a 100% survival rate. Let's apply this knowledge to transform our Fare column."
   ]
  },
  {
   "cell_type": "code",
   "execution_count": 25,
   "metadata": {},
   "outputs": [],
   "source": [
    "cuts= [0,15,50,100,1000]\n",
    "labels = [\"0-15\", \"15-50\", \"50-100\", \"100+\"]\n",
    "\n",
    "train = binning(train, \"Fare\", cuts,labels)\n",
    "holdout = binning(holdout,\"Fare\", cuts, labels)\n",
    "\n",
    "train = one_hot_encode(train, \"Fare_categories\")\n",
    "holdout = one_hot_encode(holdout, \"Fare_categories\")"
   ]
  },
  {
   "cell_type": "markdown",
   "metadata": {},
   "source": [
    "Another way to engineer features is by extracting data from text columns. Name and Cabin columns weren't useful by themselves, since they are mostly unique values, but is there useful information that can be extracted from them?\n",
    "\n",
    "The format of the cabin numbers is one letter followed by two numbers. It seems like the letter is representative of the type of cabin, which could be useful.\n",
    "\n",
    "Looking at the Name column, There is a title like 'Mr' or 'Mrs' within each, as well as some less common titles, like the 'Countess'. By spending some time researching the different titles, we can categorize these into six types:\n",
    "\n",
    "- Mr\n",
    "- Mrs\n",
    "- Miss\n",
    "- Officer\n",
    "- Nobility\n",
    "\n",
    "We can use the Series.str.extract method and [Regex Fu](https://blog.codinghorror.com/regular-expressions-now-you-have-two-problems/) to extract the title from each name and then use the Series.map() method and a predefined dictionary to simplify the titles."
   ]
  },
  {
   "cell_type": "code",
   "execution_count": 26,
   "metadata": {},
   "outputs": [
    {
     "name": "stdout",
     "output_type": "stream",
     "text": [
      "['Mr' 'Mrs' 'Miss' 'Master' 'Don' 'Rev' 'Dr' 'Mme' 'Ms' 'Major' 'Lady'\n",
      " 'Sir' 'Mlle' 'Col' 'Capt' 'Countess' 'Jonkheer']\n"
     ]
    },
    {
     "data": {
      "text/plain": [
       "<matplotlib.axes.AxesSubplot at 0x10e808bd0>"
      ]
     },
     "execution_count": 26,
     "metadata": {},
     "output_type": "execute_result"
    },
    {
     "data": {
      "image/png": "[encoded data removed]",
      "text/plain": [
       "<matplotlib.figure.Figure at 0x10f1c7fd0>"
      ]
     },
     "metadata": {},
     "output_type": "display_data"
    }
   ],
   "source": [
    "titles= train[\"Name\"].str.extract(' ([A-Za-z]+)\\.',expand=False)\n",
    "print(titles.unique())\n",
    "titles.value_counts().plot.bar()"
   ]
  },
  {
   "cell_type": "code",
   "execution_count": 27,
   "metadata": {},
   "outputs": [],
   "source": [
    "titles = {\n",
    "    \"Mr\" :         \"Mr\",\n",
    "    \"Mme\":         \"Mrs\",\n",
    "    \"Ms\":          \"Mrs\",\n",
    "    \"Mrs\" :        \"Mrs\",\n",
    "    \"Master\" :     \"Master\",\n",
    "    \"Mlle\":        \"Miss\",\n",
    "    \"Miss\" :       \"Miss\",\n",
    "    \"Capt\":        \"Officer\",\n",
    "    \"Col\":         \"Officer\",\n",
    "    \"Major\":       \"Officer\",\n",
    "    \"Dr\":          \"Officer\",\n",
    "    \"Rev\":         \"Officer\",\n",
    "    \"Jonkheer\":    \"Nobility\",\n",
    "    \"Don\":         \"Nobility\",\n",
    "    \"Sir\" :        \"Nobility\",\n",
    "    \"Countess\":    \"Nobility\",\n",
    "    \"Dona\":        \"Nobility\",\n",
    "    \"Lady\" :       \"Nobility\"\n",
    "}"
   ]
  },
  {
   "cell_type": "markdown",
   "metadata": {},
   "source": [
    "Let's perform the usual pre-processing for Titles (categorical)"
   ]
  },
  {
   "cell_type": "code",
   "execution_count": 28,
   "metadata": {},
   "outputs": [],
   "source": [
    "extracted_titles = train[\"Name\"].str.extract(' ([A-Za-z]+)\\.',expand=False)\n",
    "train[\"Title\"] = extracted_titles.map(titles)\n",
    "\n",
    "extracted_titles = holdout[\"Name\"].str.extract(' ([A-Za-z]+)\\.',expand=False)\n",
    "holdout[\"Title\"] = extracted_titles.map(titles)\n",
    "\n",
    "train = one_hot_encode(train, \"Title\")\n",
    "holdout = one_hot_encode(holdout, \"Title\")\n",
    "\n",
    "train = train.drop(\"Name\", axis=1)\n",
    "holdout = holdout.drop(\"Name\", axis=1)"
   ]
  },
  {
   "cell_type": "markdown",
   "metadata": {},
   "source": [
    "...and for Cabin Type"
   ]
  },
  {
   "cell_type": "code",
   "execution_count": 29,
   "metadata": {},
   "outputs": [],
   "source": [
    "train[\"Cabin_type\"] = train.Cabin.str[0]\n",
    "train[\"Cabin_type\"] = train[\"Cabin_type\"].fillna(\"Unknown\")\n",
    "\n",
    "holdout[\"Cabin_type\"] = holdout.Cabin.str[0]\n",
    "holdout[\"Cabin_type\"] = holdout[\"Cabin_type\"].fillna(\"Unknown\")\n",
    "\n",
    "train = train.drop(\"Cabin\", axis=1)\n",
    "holdout = holdout.drop(\"Cabin\", axis=1)\n",
    "\n",
    "train = one_hot_encode(train, \"Cabin_type\")\n",
    "holdout = one_hot_encode(holdout, \"Cabin_type\")"
   ]
  },
  {
   "cell_type": "markdown",
   "metadata": {},
   "source": [
    "### Collinearity"
   ]
  },
  {
   "cell_type": "markdown",
   "metadata": {},
   "source": [
    "We now have 34 possible feature columns we can use to train our model. One thing to be aware of as you start to add more features is a concept called **collinearity**. Collinearity occurs where more than one feature contains data that are similar.\n",
    "\n",
    "The effect of collinearity is that your model will overfit - you may get great results on your test data set, but then the model performs worse on unseen data (like the holdout set).\n",
    "\n",
    "One easy way to understand collinearity is with a simple binary variable like the Sex column in our dataset. Every passenger in our data is categorized as either male or female, so 'not male' is exactly the same as 'female'. This is called the [dummy variable trap](http://www.algosome.com/articles/dummy-variable-trap-regression.html). The easy solution is to choose one column to drop any time you make dummy columns.\n",
    "\n",
    "Collinearity can happen in other places, too. A common way to spot collinearity is to plot correlations between each pair of variables in a heatmap. "
   ]
  },
  {
   "cell_type": "code",
   "execution_count": 51,
   "metadata": {},
   "outputs": [
    {
     "data": {
      "image/png": "[encoded data removed]",
      "text/plain": [
       "<matplotlib.figure.Figure at 0x110811550>"
      ]
     },
     "metadata": {},
     "output_type": "display_data"
    }
   ],
   "source": [
    "def plot_correlation_heatmap(df):\n",
    "    corr = df.corr()\n",
    "    \n",
    "    sns.set(style=\"white\")\n",
    "    mask = np.zeros_like(corr, dtype=np.bool)\n",
    "    mask[np.triu_indices_from(mask)] = True\n",
    "\n",
    "    f, ax = plt.subplots(figsize=(11, 9))\n",
    "    cmap = sns.diverging_palette(220, 10, as_cmap=True)\n",
    "\n",
    "\n",
    "    sns.heatmap(corr, mask=mask, cmap=cmap, vmax=.3, center=0,\n",
    "            square=True, linewidths=.5, cbar_kws={\"shrink\": .5})\n",
    "    plt.show()\n",
    "\n",
    "ignore_columns = [\"PassengerId\", \"Survived\", \"SibSp\",\"Parch\",\"Fare_scaled\", \"Ticket\"]\n",
    "\n",
    "plot_correlation_heatmap(train.drop(ignore_columns, axis=1))"
   ]
  },
  {
   "cell_type": "markdown",
   "metadata": {},
   "source": [
    "We can see that there is a high correlation between Sex_female/Sex_male and Title_Miss/Title_Mr/Title_Mrs. We will remove the columns Sex_female and Sex_male since the title data may be more granular.\n",
    "\n",
    "Apart from that, we should remove one of each of our dummy variables to reduce the collinearity in each. We'll remove:\n",
    "\n",
    "- Pclass_2\n",
    "- Age_categories_Teenager\n",
    "- Fare_categories_15-50\n",
    "- Title_Master\n",
    "- Cabin_type_A"
   ]
  },
  {
   "cell_type": "markdown",
   "metadata": {},
   "source": [
    "### (Engineered) Feature Selection (with RFECV)"
   ]
  },
  {
   "cell_type": "markdown",
   "metadata": {},
   "source": [
    "In an earlier step, we manually used the **logit coefficients** to select the most relevant features. An alternate method is to use one of scikit-learn's inbuilt feature selection classes. We will be using the feature_selection.RFECV class which performs recursive feature elimination with cross-validation.\n",
    "\n",
    "The RFECV class starts by training a model using all of your features and scores it using **cross validation**. It then uses the **logit coefficients** to eliminate the least important feature, and trains and scores a new model. At the end, the class looks at all the scores, and selects the set of features which scored highest.\n",
    "\n",
    "Like the LogisticRegression class, RFECV must first be instantiated and then fit. The first parameter when creating the RFECV object must be an estimator, and we need to use the cv parameter to specific the number of folds for cross-validation."
   ]
  },
  {
   "cell_type": "code",
   "execution_count": 31,
   "metadata": {},
   "outputs": [
    {
     "name": "stdout",
     "output_type": "stream",
     "text": [
      "Index([u'SibSp_scaled', u'Title_Mr', u'Title_Officer', u'Cabin_type_Unknown'], dtype='object')\n"
     ]
    }
   ],
   "source": [
    "from sklearn.feature_selection import RFECV\n",
    "\n",
    "ignore_columns = [\"PassengerId\", \"Ticket\", \"Survived\", \"SibSp\",\"Parch\",\"Fare_scaled\", \"Pclass_2\",\n",
    "                  \"Age_categories_Teenager\", \"Fare_categories_15-50\", \"Title_Master\",\"Cabin_type_A\",\n",
    "                 \"Sex_female\",\"Sex_male\"]\n",
    "\n",
    "all_X = train.drop(ignore_columns, axis=1)\n",
    "all_y = train.Survived\n",
    "\n",
    "lr = LogisticRegression()\n",
    "selector = RFECV(lr, cv=10)\n",
    "selector.fit(all_X, all_y)\n",
    "\n",
    "optimized_columns = all_X.columns[selector.support_]\n",
    "print(optimized_columns)"
   ]
  },
  {
   "cell_type": "code",
   "execution_count": 32,
   "metadata": {},
   "outputs": [
    {
     "name": "stdout",
     "output_type": "stream",
     "text": [
      "Model Accuracy: 82.27%\n"
     ]
    }
   ],
   "source": [
    "all_X = train[optimized_columns]\n",
    "all_y = train.Survived\n",
    "\n",
    "lr = LogisticRegression()\n",
    "scores = cross_val_score(lr, all_X, all_y, cv = 10)\n",
    "\n",
    "accuracy = scores.mean()\n",
    "print('Model Accuracy: {:.2%}'.format(accuracy))"
   ]
  },
  {
   "cell_type": "markdown",
   "metadata": {},
   "source": [
    "This four-feature model scores 82.27%, a modest improvement compared to the 81.48% from our earlier model"
   ]
  },
  {
   "cell_type": "markdown",
   "metadata": {},
   "source": [
    "## Model Selection and Tuning"
   ]
  },
  {
   "cell_type": "markdown",
   "metadata": {},
   "source": [
    "We worked to optimize our predictions by creating and selecting the features used to train our model. The other half of the optimization puzzle is to optimize the model itself,  or more specifically, the algorithm used to train our model.\n",
    "\n",
    "For starters, we're going to train our models using all the columns in the train dataframe. This will cause a small amount of overfitting due to collinearity, but having more features will allow us to more thoroughly compare algorithms.\n",
    "\n",
    "We're going to train a logistic regression model using cross validation to get a baseline score."
   ]
  },
  {
   "cell_type": "code",
   "execution_count": 33,
   "metadata": {},
   "outputs": [
    {
     "name": "stdout",
     "output_type": "stream",
     "text": [
      "Model Accuracy: 81.60%\n"
     ]
    }
   ],
   "source": [
    "all_X = train.drop(ignore_columns, axis=1)\n",
    "all_y = train.Survived\n",
    "\n",
    "lr = LogisticRegression()\n",
    "scores = cross_val_score(lr, all_X, all_y, cv = 10)\n",
    "accuracy_lr = scores.mean()\n",
    "print('Model Accuracy: {:.2%}'.format(accuracy_lr))"
   ]
  },
  {
   "cell_type": "markdown",
   "metadata": {},
   "source": [
    "Each algorithm has different strengths and weaknesses, and so we need to select the algorithm that works best with our specific data.\n",
    "\n",
    "Two popular and simple algorithms are [k-nearest neighbors](https://www.analyticsvidhya.com/blog/2018/03/introduction-k-neighbours-algorithm-clustering/) and [random forest](https://towardsdatascience.com/the-random-forest-algorithm-d457d499ffcd)."
   ]
  },
  {
   "cell_type": "markdown",
   "metadata": {},
   "source": [
    "### K-nearest neighbors"
   ]
  },
  {
   "cell_type": "markdown",
   "metadata": {},
   "source": [
    "The k-nearest neighbors algorithm finds the k observations in our training set most similar to the observation in our test set, and uses the average outcome of those 'neighbor' observations to make a prediction."
   ]
  },
  {
   "cell_type": "code",
   "execution_count": 34,
   "metadata": {},
   "outputs": [
    {
     "name": "stdout",
     "output_type": "stream",
     "text": [
      "Model Accuracy: 80.15%\n"
     ]
    }
   ],
   "source": [
    "from sklearn.neighbors import KNeighborsClassifier\n",
    "\n",
    "knn = KNeighborsClassifier(n_neighbors = 3)\n",
    "scores = cross_val_score(knn, all_X, all_y, cv =10)\n",
    "accuracy_knn = scores.mean()\n",
    "print('Model Accuracy: {:.2%}'.format(accuracy_knn))"
   ]
  },
  {
   "cell_type": "markdown",
   "metadata": {},
   "source": [
    "Besides pure model selection, we can vary the settings of each model, for instance the value of k in our k-nearest neighbors model. This is called **hyperparameter optimization**."
   ]
  },
  {
   "cell_type": "code",
   "execution_count": 35,
   "metadata": {},
   "outputs": [],
   "source": [
    "knn_scores = []\n",
    "#steps of 2 two prevent ties.\n",
    "for i in range(1, 50, 2):\n",
    "    knn = KNeighborsClassifier(n_neighbors=i)\n",
    "    scores = cross_val_score(knn, all_X, all_y, cv = 10)\n",
    "    knn_scores.append(scores.mean())"
   ]
  },
  {
   "cell_type": "code",
   "execution_count": 36,
   "metadata": {},
   "outputs": [
    {
     "name": "stdout",
     "output_type": "stream",
     "text": [
      "Model Accuracy: 81.71%  Best K:35 \n"
     ]
    },
    {
     "data": {
      "image/png": "[encoded data removed]",
      "text/plain": [
       "<matplotlib.figure.Figure at 0x10fb15ed0>"
      ]
     },
     "metadata": {},
     "output_type": "display_data"
    }
   ],
   "source": [
    "sns.set()\n",
    "plt.scatter(range(1,50,2), knn_scores)\n",
    "plt.xlim(0,55)\n",
    "plt.ylabel(\"Accuracy\")\n",
    "plt.xlabel(\"# of Neighbors\")\n",
    "accuracy_knn = max(knn_scores)\n",
    "best_k = knn_scores.index(accuracy_knn)*2+1\n",
    "plt.axvline(c=\"red\",x= best_k)\n",
    "print('Model Accuracy: {:.2%}  Best K:{} '.format(accuracy_knn, best_k))"
   ]
  },
  {
   "cell_type": "markdown",
   "metadata": {},
   "source": [
    "Looking at our plot from the previous screen we can see that a k value of 35 gave us our best score of 81.71%, slightly better than our Logistic Regression."
   ]
  },
  {
   "cell_type": "markdown",
   "metadata": {},
   "source": [
    "### Hyperparameter Tuning (GridSearchCV)"
   ]
  },
  {
   "cell_type": "markdown",
   "metadata": {},
   "source": [
    "In our previous attempt we only tuned the number of neighbors parameter of knn. Let's use the Grid Search Library to explore several hyperparameters at the same time."
   ]
  },
  {
   "cell_type": "code",
   "execution_count": 37,
   "metadata": {},
   "outputs": [
    {
     "name": "stdout",
     "output_type": "stream",
     "text": [
      "{'n_neighbors': 9, 'weights': 'distance', 'algorithm': 'brute', 'p': 1}\n",
      "Model Accuracy: 81.71%\n"
     ]
    }
   ],
   "source": [
    "from sklearn.model_selection import GridSearchCV\n",
    "\n",
    "hyperparameters = {\n",
    "    \"n_neighbors\": range(1,40,2),\n",
    "    \"weights\": [\"distance\", \"uniform\"],\n",
    "    \"algorithm\": ['brute'],\n",
    "    \"p\": [1,2]\n",
    "}\n",
    "\n",
    "knn = KNeighborsClassifier()\n",
    "grid = GridSearchCV(knn,param_grid = hyperparameters,cv = 10)\n",
    "grid.fit(all_X, all_y)\n",
    "\n",
    "print(grid.best_params_)\n",
    "print('Model Accuracy: {:.2%}'.format(grid.best_score_))"
   ]
  },
  {
   "cell_type": "markdown",
   "metadata": {},
   "source": [
    "Not a lot of improvement. Let's try another algorithm called Random Forest."
   ]
  },
  {
   "cell_type": "markdown",
   "metadata": {},
   "source": [
    "### Random Forest"
   ]
  },
  {
   "cell_type": "markdown",
   "metadata": {},
   "source": [
    "Random Forest is a specific type of decision tree algorithm. Decision tree algorithms attempt to build the most efficient decision tree based on the training data, and then use that tree to make future predictions."
   ]
  },
  {
   "cell_type": "code",
   "execution_count": 38,
   "metadata": {},
   "outputs": [
    {
     "name": "stdout",
     "output_type": "stream",
     "text": [
      "Model Accuracy: 82.05%\n"
     ]
    }
   ],
   "source": [
    "from sklearn.ensemble import RandomForestClassifier\n",
    "\n",
    "clf = RandomForestClassifier(random_state=1)\n",
    "scores = cross_val_score(clf, all_X, all_y,cv=10)\n",
    "accurcy_clf = scores.mean()\n",
    "print('Model Accuracy: {:.2%}'.format(accurcy_clf))"
   ]
  },
  {
   "cell_type": "code",
   "execution_count": 39,
   "metadata": {},
   "outputs": [
    {
     "name": "stdout",
     "output_type": "stream",
     "text": [
      "{'min_samples_leaf': 1, 'n_estimators': 6, 'min_samples_split': 3, 'criterion': 'entropy', 'max_features': 'sqrt', 'max_depth': 10}\n",
      "Model Accuracy: 82.94%\n"
     ]
    }
   ],
   "source": [
    "hyperparameters = {\"criterion\":[\"entropy\" , \"gini\"],\n",
    "\"max_depth\" : [5,10],\n",
    "\"max_features\": [\"log2\",\"sqrt\"],\n",
    "\"min_samples_leaf\":  [1,5],\n",
    "\"min_samples_split\": [3,5],\n",
    "\"n_estimators\": [6,9]}\n",
    "\n",
    "grid = GridSearchCV(clf,param_grid = hyperparameters,cv = 10)\n",
    "grid.fit(all_X, all_y)\n",
    "\n",
    "print(grid.best_params_)\n",
    "print('Model Accuracy: {:.2%}'.format(grid.best_score_))"
   ]
  },
  {
   "cell_type": "markdown",
   "metadata": {},
   "source": [
    "Random Forest gives us the best Accuracy out of the three tuned models we tried. However, this measure is still based on the training set. To get a better idea of how well our models generalize, we can submit our predictions on the holdout dataset to Kaggle and see if indeed Random Forest was the best one for this dataset.\n",
    "\n",
    "As a final, comprehensive example, let's meddle a little bit more with the *SibSp* and *Parch* columns. Since these column give us information on a passenger's relatives, we might be able to combine them into just one feature."
   ]
  },
  {
   "cell_type": "markdown",
   "metadata": {},
   "source": [
    "## EDA"
   ]
  },
  {
   "cell_type": "code",
   "execution_count": 40,
   "metadata": {},
   "outputs": [
    {
     "data": {
      "text/html": [
       "<div>\n",
       "<style scoped>\n",
       "    .dataframe tbody tr th:only-of-type {\n",
       "        vertical-align: middle;\n",
       "    }\n",
       "\n",
       "    .dataframe tbody tr th {\n",
       "        vertical-align: top;\n",
       "    }\n",
       "\n",
       "    .dataframe thead th {\n",
       "        text-align: right;\n",
       "    }\n",
       "</style>\n",
       "<table border=\"1\" class=\"dataframe\">\n",
       "  <thead>\n",
       "    <tr style=\"text-align: right;\">\n",
       "      <th></th>\n",
       "      <th>SibSp</th>\n",
       "      <th>Parch</th>\n",
       "    </tr>\n",
       "  </thead>\n",
       "  <tbody>\n",
       "    <tr>\n",
       "      <th>count</th>\n",
       "      <td>891.000000</td>\n",
       "      <td>891.000000</td>\n",
       "    </tr>\n",
       "    <tr>\n",
       "      <th>mean</th>\n",
       "      <td>0.523008</td>\n",
       "      <td>0.381594</td>\n",
       "    </tr>\n",
       "    <tr>\n",
       "      <th>std</th>\n",
       "      <td>1.102743</td>\n",
       "      <td>0.806057</td>\n",
       "    </tr>\n",
       "    <tr>\n",
       "      <th>min</th>\n",
       "      <td>0.000000</td>\n",
       "      <td>0.000000</td>\n",
       "    </tr>\n",
       "    <tr>\n",
       "      <th>25%</th>\n",
       "      <td>0.000000</td>\n",
       "      <td>0.000000</td>\n",
       "    </tr>\n",
       "    <tr>\n",
       "      <th>50%</th>\n",
       "      <td>0.000000</td>\n",
       "      <td>0.000000</td>\n",
       "    </tr>\n",
       "    <tr>\n",
       "      <th>75%</th>\n",
       "      <td>1.000000</td>\n",
       "      <td>0.000000</td>\n",
       "    </tr>\n",
       "    <tr>\n",
       "      <th>max</th>\n",
       "      <td>8.000000</td>\n",
       "      <td>6.000000</td>\n",
       "    </tr>\n",
       "  </tbody>\n",
       "</table>\n",
       "</div>"
      ],
      "text/plain": [
       "            SibSp       Parch\n",
       "count  891.000000  891.000000\n",
       "mean     0.523008    0.381594\n",
       "std      1.102743    0.806057\n",
       "min      0.000000    0.000000\n",
       "25%      0.000000    0.000000\n",
       "50%      0.000000    0.000000\n",
       "75%      1.000000    0.000000\n",
       "max      8.000000    6.000000"
      ]
     },
     "execution_count": 40,
     "metadata": {},
     "output_type": "execute_result"
    }
   ],
   "source": [
    "train[[\"SibSp\",\"Parch\"]].describe()"
   ]
  },
  {
   "cell_type": "code",
   "execution_count": 41,
   "metadata": {},
   "outputs": [
    {
     "name": "stdout",
     "output_type": "stream",
     "text": [
      "0    608\n",
      "1    209\n",
      "2     28\n",
      "4     18\n",
      "3     16\n",
      "8      7\n",
      "5      5\n",
      "Name: SibSp, dtype: int64\n"
     ]
    },
    {
     "data": {
      "text/plain": [
       "<matplotlib.axes.AxesSubplot at 0x10fa4ff50>"
      ]
     },
     "execution_count": 41,
     "metadata": {},
     "output_type": "execute_result"
    },
    {
     "data": {
      "image/png": "[encoded data removed]",
      "text/plain": [
       "<matplotlib.figure.Figure at 0x10fd66f10>"
      ]
     },
     "metadata": {},
     "output_type": "display_data"
    }
   ],
   "source": [
    "print train.SibSp.value_counts()\n",
    "train.SibSp.plot.kde()"
   ]
  },
  {
   "cell_type": "code",
   "execution_count": 42,
   "metadata": {},
   "outputs": [
    {
     "name": "stdout",
     "output_type": "stream",
     "text": [
      "0    678\n",
      "1    118\n",
      "2     80\n",
      "5      5\n",
      "3      5\n",
      "4      4\n",
      "6      1\n",
      "Name: Parch, dtype: int64\n"
     ]
    },
    {
     "data": {
      "text/plain": [
       "<matplotlib.axes.AxesSubplot at 0x10fb00a50>"
      ]
     },
     "execution_count": 42,
     "metadata": {},
     "output_type": "execute_result"
    },
    {
     "data": {
      "image/png": "[encoded data removed]",
      "text/plain": [
       "<matplotlib.figure.Figure at 0x10f86fc90>"
      ]
     },
     "metadata": {},
     "output_type": "display_data"
    }
   ],
   "source": [
    "print train.Parch.value_counts()\n",
    "train.Parch.plot.kde()"
   ]
  },
  {
   "cell_type": "markdown",
   "metadata": {},
   "source": [
    "The distribution of values in both columns is skewed right, with the majority of values being zero.\n",
    "\n",
    "Let's see how these features are related to survival."
   ]
  },
  {
   "cell_type": "code",
   "execution_count": 43,
   "metadata": {},
   "outputs": [
    {
     "data": {
      "text/html": [
       "<div>\n",
       "<style scoped>\n",
       "    .dataframe tbody tr th:only-of-type {\n",
       "        vertical-align: middle;\n",
       "    }\n",
       "\n",
       "    .dataframe tbody tr th {\n",
       "        vertical-align: top;\n",
       "    }\n",
       "\n",
       "    .dataframe thead th {\n",
       "        text-align: right;\n",
       "    }\n",
       "</style>\n",
       "<table border=\"1\" class=\"dataframe\">\n",
       "  <thead>\n",
       "    <tr style=\"text-align: right;\">\n",
       "      <th>Parch</th>\n",
       "      <th>0</th>\n",
       "      <th>1</th>\n",
       "      <th>2</th>\n",
       "      <th>3</th>\n",
       "      <th>4</th>\n",
       "      <th>5</th>\n",
       "      <th>6</th>\n",
       "    </tr>\n",
       "    <tr>\n",
       "      <th>SibSp</th>\n",
       "      <th></th>\n",
       "      <th></th>\n",
       "      <th></th>\n",
       "      <th></th>\n",
       "      <th></th>\n",
       "      <th></th>\n",
       "      <th></th>\n",
       "    </tr>\n",
       "  </thead>\n",
       "  <tbody>\n",
       "    <tr>\n",
       "      <th>0</th>\n",
       "      <td>0.30</td>\n",
       "      <td>0.66</td>\n",
       "      <td>0.72</td>\n",
       "      <td>1.00</td>\n",
       "      <td>0.0</td>\n",
       "      <td>0.00</td>\n",
       "      <td>NaN</td>\n",
       "    </tr>\n",
       "    <tr>\n",
       "      <th>1</th>\n",
       "      <td>0.52</td>\n",
       "      <td>0.60</td>\n",
       "      <td>0.63</td>\n",
       "      <td>0.33</td>\n",
       "      <td>0.0</td>\n",
       "      <td>0.33</td>\n",
       "      <td>0.0</td>\n",
       "    </tr>\n",
       "    <tr>\n",
       "      <th>2</th>\n",
       "      <td>0.25</td>\n",
       "      <td>0.86</td>\n",
       "      <td>0.50</td>\n",
       "      <td>1.00</td>\n",
       "      <td>NaN</td>\n",
       "      <td>NaN</td>\n",
       "      <td>NaN</td>\n",
       "    </tr>\n",
       "    <tr>\n",
       "      <th>3</th>\n",
       "      <td>1.00</td>\n",
       "      <td>0.00</td>\n",
       "      <td>0.29</td>\n",
       "      <td>NaN</td>\n",
       "      <td>NaN</td>\n",
       "      <td>NaN</td>\n",
       "      <td>NaN</td>\n",
       "    </tr>\n",
       "    <tr>\n",
       "      <th>4</th>\n",
       "      <td>NaN</td>\n",
       "      <td>0.00</td>\n",
       "      <td>0.33</td>\n",
       "      <td>NaN</td>\n",
       "      <td>NaN</td>\n",
       "      <td>NaN</td>\n",
       "      <td>NaN</td>\n",
       "    </tr>\n",
       "    <tr>\n",
       "      <th>5</th>\n",
       "      <td>NaN</td>\n",
       "      <td>NaN</td>\n",
       "      <td>0.00</td>\n",
       "      <td>NaN</td>\n",
       "      <td>NaN</td>\n",
       "      <td>NaN</td>\n",
       "      <td>NaN</td>\n",
       "    </tr>\n",
       "    <tr>\n",
       "      <th>8</th>\n",
       "      <td>NaN</td>\n",
       "      <td>NaN</td>\n",
       "      <td>0.00</td>\n",
       "      <td>NaN</td>\n",
       "      <td>NaN</td>\n",
       "      <td>NaN</td>\n",
       "      <td>NaN</td>\n",
       "    </tr>\n",
       "  </tbody>\n",
       "</table>\n",
       "</div>"
      ],
      "text/plain": [
       "Parch     0     1     2     3    4     5    6\n",
       "SibSp                                        \n",
       "0      0.30  0.66  0.72  1.00  0.0  0.00  NaN\n",
       "1      0.52  0.60  0.63  0.33  0.0  0.33  0.0\n",
       "2      0.25  0.86  0.50  1.00  NaN   NaN  NaN\n",
       "3      1.00  0.00  0.29   NaN  NaN   NaN  NaN\n",
       "4       NaN  0.00  0.33   NaN  NaN   NaN  NaN\n",
       "5       NaN   NaN  0.00   NaN  NaN   NaN  NaN\n",
       "8       NaN   NaN  0.00   NaN  NaN   NaN  NaN"
      ]
     },
     "execution_count": 43,
     "metadata": {},
     "output_type": "execute_result"
    }
   ],
   "source": [
    "np.round(pd.pivot_table(train, values='Survived', index='SibSp',  columns='Parch'),2)\n",
    "#.apply(round,args=[2])"
   ]
  },
  {
   "cell_type": "code",
   "execution_count": 44,
   "metadata": {},
   "outputs": [
    {
     "data": {
      "text/plain": [
       "<matplotlib.legend.Legend at 0x10f48ad90>"
      ]
     },
     "execution_count": 44,
     "metadata": {},
     "output_type": "execute_result"
    },
    {
     "data": {
      "image/png": "[encoded data removed]",
      "text/plain": [
       "<matplotlib.figure.Figure at 0x10fa46390>"
      ]
     },
     "metadata": {},
     "output_type": "display_data"
    }
   ],
   "source": [
    "fig = plt.figure(figsize=(8, 3))\n",
    "\n",
    "survived = train[train.Survived == 1]\n",
    "deceased = train[train.Survived == 0]\n",
    "\n",
    "ax = fig.add_subplot(1,2,1)\n",
    "ax.set_title(\"SibSp\")\n",
    "ax.set_ylim(0,470)\n",
    "plt.hist(deceased.SibSp, alpha=0.5, color = \"red\", bins = range(8), label = \"Not\")\n",
    "plt.hist(np.array(survived.SibSp), alpha=0.5, bins = range(8), label= \"Survived\")\n",
    "plt.legend()\n",
    "\n",
    "ax = fig.add_subplot(1,2,2)\n",
    "ax.set_title(\"Parch\")\n",
    "ax.set_ylim(0,470)\n",
    "plt.hist(deceased.Parch, alpha=0.5, color = \"red\", bins = range(8), label = \"Not\")\n",
    "plt.hist(np.array(survived.Parch), alpha=0.5, bins = range(8), label= \"Survived\")\n",
    "plt.legend()"
   ]
  },
  {
   "cell_type": "markdown",
   "metadata": {},
   "source": [
    "The trend seems to be that you are more likely to die if you traveled alone *or* with a lot of family members."
   ]
  },
  {
   "cell_type": "markdown",
   "metadata": {},
   "source": [
    "## Feature Engineering"
   ]
  },
  {
   "cell_type": "code",
   "execution_count": 45,
   "metadata": {},
   "outputs": [
    {
     "data": {
      "text/html": [
       "<div>\n",
       "<style scoped>\n",
       "    .dataframe tbody tr th:only-of-type {\n",
       "        vertical-align: middle;\n",
       "    }\n",
       "\n",
       "    .dataframe tbody tr th {\n",
       "        vertical-align: top;\n",
       "    }\n",
       "\n",
       "    .dataframe thead th {\n",
       "        text-align: right;\n",
       "    }\n",
       "</style>\n",
       "<table border=\"1\" class=\"dataframe\">\n",
       "  <thead>\n",
       "    <tr style=\"text-align: right;\">\n",
       "      <th></th>\n",
       "      <th>Survived</th>\n",
       "    </tr>\n",
       "    <tr>\n",
       "      <th>family_size</th>\n",
       "      <th></th>\n",
       "    </tr>\n",
       "  </thead>\n",
       "  <tbody>\n",
       "    <tr>\n",
       "      <th>0</th>\n",
       "      <td>0.303538</td>\n",
       "    </tr>\n",
       "    <tr>\n",
       "      <th>1</th>\n",
       "      <td>0.552795</td>\n",
       "    </tr>\n",
       "    <tr>\n",
       "      <th>2</th>\n",
       "      <td>0.578431</td>\n",
       "    </tr>\n",
       "    <tr>\n",
       "      <th>3</th>\n",
       "      <td>0.724138</td>\n",
       "    </tr>\n",
       "    <tr>\n",
       "      <th>4</th>\n",
       "      <td>0.200000</td>\n",
       "    </tr>\n",
       "    <tr>\n",
       "      <th>5</th>\n",
       "      <td>0.136364</td>\n",
       "    </tr>\n",
       "    <tr>\n",
       "      <th>6</th>\n",
       "      <td>0.333333</td>\n",
       "    </tr>\n",
       "    <tr>\n",
       "      <th>7</th>\n",
       "      <td>0.000000</td>\n",
       "    </tr>\n",
       "    <tr>\n",
       "      <th>10</th>\n",
       "      <td>0.000000</td>\n",
       "    </tr>\n",
       "  </tbody>\n",
       "</table>\n",
       "</div>"
      ],
      "text/plain": [
       "             Survived\n",
       "family_size          \n",
       "0            0.303538\n",
       "1            0.552795\n",
       "2            0.578431\n",
       "3            0.724138\n",
       "4            0.200000\n",
       "5            0.136364\n",
       "6            0.333333\n",
       "7            0.000000\n",
       "10           0.000000"
      ]
     },
     "execution_count": 45,
     "metadata": {},
     "output_type": "execute_result"
    }
   ],
   "source": [
    "train[\"family_size\"] = train.SibSp + train.Parch\n",
    "train.pivot_table(index='family_size',values=\"Survived\")"
   ]
  },
  {
   "cell_type": "code",
   "execution_count": 46,
   "metadata": {},
   "outputs": [
    {
     "data": {
      "image/png": "[encoded data removed]",
      "text/plain": [
       "<matplotlib.figure.Figure at 0x10fa59cd0>"
      ]
     },
     "metadata": {},
     "output_type": "display_data"
    }
   ],
   "source": [
    "pivot = train.pivot_table(index=\"family_size\",values=\"Survived\")\n",
    "pivot.plot.bar(ylim=(0,1),yticks=np.arange(0,1,.1), alpha = 0.7)\n",
    "plt.axhspan(.3, .6, alpha=0.1, color='red')\n",
    "plt.show()"
   ]
  },
  {
   "cell_type": "markdown",
   "metadata": {},
   "source": [
    "Looking at the survival rates of the the combined family members, we can see that few of the over 500 passengers with no family members survived, while greater numbers of passengers with family members survived."
   ]
  },
  {
   "cell_type": "markdown",
   "metadata": {},
   "source": [
    "Idea for a new feature: Was the passenger alone? This can be represented as a binary feature."
   ]
  },
  {
   "cell_type": "code",
   "execution_count": 47,
   "metadata": {},
   "outputs": [],
   "source": [
    "def is_alone(df):\n",
    "    df[\"isalone\"] = df[\"family_size\"]  > 1\n",
    "    return df"
   ]
  },
  {
   "cell_type": "code",
   "execution_count": 48,
   "metadata": {},
   "outputs": [],
   "source": [
    "train = is_alone(train)\n",
    "holdout[\"family_size\"] = holdout.SibSp + holdout.Parch\n",
    "holdout = is_alone(holdout)"
   ]
  },
  {
   "cell_type": "markdown",
   "metadata": {},
   "source": [
    "## Feature Selection"
   ]
  },
  {
   "cell_type": "code",
   "execution_count": 56,
   "metadata": {},
   "outputs": [
    {
     "name": "stdout",
     "output_type": "stream",
     "text": [
      "Best Columns \n",
      "------------\n",
      "['Title_Miss', 'Title_Mr', 'family_size']\n",
      "\n"
     ]
    }
   ],
   "source": [
    "def select_features(df, ignore_columns):\n",
    "    # Remove non-numeric columns, columns that have null values\n",
    "    df = df.select_dtypes([np.number]).dropna(axis=1)\n",
    "    X = df.drop(ignore_columns,axis=1)\n",
    "    y = df[\"Survived\"]\n",
    "    \n",
    "    clf = RandomForestClassifier(random_state=1)\n",
    "    selector = RFECV(clf,cv=10)\n",
    "    selector.fit(X,y)\n",
    "    \n",
    "    best_columns = list(X.columns[selector.support_])\n",
    "    print(\"Best Columns \\n\"+\"-\"*12+\"\\n{}\\n\".format(best_columns))\n",
    "    \n",
    "    return best_columns\n",
    "\n",
    "ignore_columns = [\"PassengerId\", \"Survived\", \"SibSp\",\"Parch\",\"Fare_scaled\", \"Pclass_2\",\n",
    "                  \"Age_categories_Teenager\", \"Fare_categories_15-50\", \"Title_Master\",\"Cabin_type_A\",\n",
    "                 \"Sex_female\",\"Sex_male\", \"SibSp\", \"Parch\"]\n",
    "\n",
    "cols = select_features(train, ignore_columns)"
   ]
  },
  {
   "cell_type": "markdown",
   "metadata": {},
   "source": [
    "## Model Selection / Hyperparameter Tuning"
   ]
  },
  {
   "cell_type": "code",
   "execution_count": 57,
   "metadata": {},
   "outputs": [
    {
     "name": "stdout",
     "output_type": "stream",
     "text": [
      "LogisticRegression\n",
      "------------------\n",
      "Best Score: 0.806958473625\n",
      "Best Parameters: {'solver': 'newton-cg'}\n",
      "\n",
      "KNeighborsClassifier\n",
      "--------------------\n",
      "Best Score: 0.81593714927\n",
      "Best Parameters: {'n_neighbors': 13, 'weights': 'uniform', 'algorithm': 'brute', 'p': 1}\n",
      "\n",
      "RandomForestClassifier\n",
      "----------------------\n",
      "Best Score: 0.817059483726\n",
      "Best Parameters: {'min_samples_leaf': 5, 'n_estimators': 6, 'min_samples_split': 2, 'criterion': 'entropy', 'max_features': 'log2', 'max_depth': 5}\n",
      "\n"
     ]
    }
   ],
   "source": [
    "def select_model(df,features):\n",
    "    \n",
    "    all_X = df[features]\n",
    "    all_y = df[\"Survived\"]\n",
    "\n",
    "    # List of dictionaries, each containing a model name,\n",
    "    # it's estimator and a dict of hyperparameters\n",
    "    models = [\n",
    "        {\n",
    "            \"name\": \"LogisticRegression\",\n",
    "            \"estimator\": LogisticRegression(),\n",
    "            \"hyperparameters\":\n",
    "                {\n",
    "                    \"solver\": [\"newton-cg\", \"lbfgs\", \"liblinear\"]\n",
    "                }\n",
    "        },\n",
    "        {\n",
    "            \"name\": \"KNeighborsClassifier\",\n",
    "            \"estimator\": KNeighborsClassifier(),\n",
    "            \"hyperparameters\":\n",
    "                {\n",
    "                    \"n_neighbors\": range(1,20,2),\n",
    "                    \"weights\": [\"distance\", \"uniform\"],\n",
    "                    \"algorithm\": [\"ball_tree\", \"kd_tree\", \"brute\"],\n",
    "                    \"p\": [1,2]\n",
    "                }\n",
    "        },\n",
    "        {\n",
    "            \"name\": \"RandomForestClassifier\",\n",
    "            \"estimator\": RandomForestClassifier(random_state=1),\n",
    "            \"hyperparameters\":\n",
    "                {\n",
    "                    \"n_estimators\": [4, 6, 9],\n",
    "                    \"criterion\": [\"entropy\", \"gini\"],\n",
    "                    \"max_depth\": [2, 5, 10],\n",
    "                    \"max_features\": [\"log2\", \"sqrt\"],\n",
    "                    \"min_samples_leaf\": [1, 5, 8],\n",
    "                    \"min_samples_split\": [2, 3, 5]\n",
    "\n",
    "                }\n",
    "        }\n",
    "    ]\n",
    "\n",
    "    for model in models:\n",
    "        print(model['name'])\n",
    "        print('-'*len(model['name']))\n",
    "\n",
    "        grid = GridSearchCV(model[\"estimator\"],\n",
    "                            param_grid=model[\"hyperparameters\"],\n",
    "                            cv=10)\n",
    "        grid.fit(all_X,all_y)\n",
    "        model[\"best_params\"] = grid.best_params_\n",
    "        model[\"best_score\"] = grid.best_score_\n",
    "        model[\"best_model\"] = grid.best_estimator_\n",
    "\n",
    "        print(\"Best Score: {}\".format(model[\"best_score\"]))\n",
    "        print(\"Best Parameters: {}\\n\".format(model[\"best_params\"]))\n",
    "\n",
    "    return models\n",
    "\n",
    "result = select_model(train,cols)"
   ]
  },
  {
   "cell_type": "markdown",
   "metadata": {},
   "source": [
    "Jesus, take the wheel"
   ]
  },
  {
   "cell_type": "code",
   "execution_count": 58,
   "metadata": {},
   "outputs": [
    {
     "name": "stdout",
     "output_type": "stream",
     "text": [
      "Best Columns \n",
      "------------\n",
      "['Sex_female', 'Sex_male', 'Fare_scaled', 'Title_Mr', 'family_size']\n",
      "\n",
      "LogisticRegression\n",
      "------------------\n",
      "Best Score: 0.796857463524\n",
      "Best Parameters: {'solver': 'newton-cg'}\n",
      "\n",
      "KNeighborsClassifier\n",
      "--------------------\n",
      "Best Score: 0.838383838384\n",
      "Best Parameters: {'n_neighbors': 15, 'weights': 'distance', 'algorithm': 'ball_tree', 'p': 1}\n",
      "\n",
      "RandomForestClassifier\n",
      "----------------------\n",
      "Best Score: 0.836139169473\n",
      "Best Parameters: {'min_samples_leaf': 5, 'n_estimators': 6, 'min_samples_split': 2, 'criterion': 'entropy', 'max_features': 'log2', 'max_depth': 10}\n",
      "\n"
     ]
    }
   ],
   "source": [
    "ignore_columns = [\"PassengerId\", \"Survived\"]\n",
    "\n",
    "cols = select_features(train, ignore_columns)\n",
    "result = select_model(train,cols)"
   ]
  }
 ],
 "metadata": {
  "kernelspec": {
   "display_name": "Python 2",
   "language": "python",
   "name": "python2"
  },
  "language_info": {
   "codemirror_mode": {
    "name": "ipython",
    "version": 2
   },
   "file_extension": ".py",
   "mimetype": "text/x-python",
   "name": "python",
   "nbconvert_exporter": "python",
   "pygments_lexer": "ipython2",
   "version": "2.7.10"
  }
 },
 "nbformat": 4,
 "nbformat_minor": 2
}
